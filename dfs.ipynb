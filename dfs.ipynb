{
 "cells": [
  {
   "cell_type": "code",
   "execution_count": 322,
   "metadata": {},
   "outputs": [],
   "source": [
    "class Node:\n",
    "    def __init__(self, value):\n",
    "        self.value = value\n",
    "        self.visited = False\n",
    "        self._neighbours = set()\n",
    "    \n",
    "    @property\n",
    "    def neighbours(self):\n",
    "        return self._neighbours\n",
    "\n",
    "    @neighbours.setter\n",
    "    def neighbours(self, n):\n",
    "        self._neighbours = set(n)\n",
    "    \n",
    "    def __repr__(self):\n",
    "        return f\"Node <{self.value}>\""
   ]
  },
  {
   "cell_type": "code",
   "execution_count": 344,
   "metadata": {},
   "outputs": [],
   "source": [
    "node1 = Node(1)\n",
    "node2 = Node(2)\n",
    "node3 = Node(3)\n",
    "node4 = Node(4)\n",
    "node5 = Node(5)\n",
    "\n",
    "node1.neighbours = [node3, node5]\n",
    "node2.neighbours = [node1, node4, node5]\n",
    "node3.neighbours = [node1, node2]\n",
    "node4.neighbours = [node1]\n",
    "node5.neighbours = [node3, node4]"
   ]
  },
  {
   "cell_type": "code",
   "execution_count": 361,
   "metadata": {},
   "outputs": [
    {
     "data": {
      "text/plain": [
       "[Node <1>, Node <3>, Node <2>, Node <5>]"
      ]
     },
     "execution_count": 361,
     "metadata": {},
     "output_type": "execute_result"
    }
   ],
   "source": [
    "class DFS:\n",
    "    def __init__(self):\n",
    "        self.visited = set()\n",
    "        self.path = []\n",
    "    \n",
    "    def find_path(self, start, end):\n",
    "        self.path.append(start)\n",
    "        self.visited.add(start)\n",
    "\n",
    "        if start == end:\n",
    "            return self.path\n",
    "        \n",
    "        for node in start.neighbours:\n",
    "            if node not in self.visited:\n",
    "                result = self.find_path(node, end)\n",
    "                if result:\n",
    "                    return result\n",
    "                \n",
    "        self.path.pop()\n",
    "\n",
    "DFS().find_path(node1, node5)"
   ]
  }
 ],
 "metadata": {
  "kernelspec": {
   "display_name": "Python 3",
   "language": "python",
   "name": "python3"
  },
  "language_info": {
   "codemirror_mode": {
    "name": "ipython",
    "version": 3
   },
   "file_extension": ".py",
   "mimetype": "text/x-python",
   "name": "python",
   "nbconvert_exporter": "python",
   "pygments_lexer": "ipython3",
   "version": "3.10.6"
  },
  "orig_nbformat": 4,
  "vscode": {
   "interpreter": {
    "hash": "916dbcbb3f70747c44a77c7bcd40155683ae19c65e1c03b4aa3499c5328201f1"
   }
  }
 },
 "nbformat": 4,
 "nbformat_minor": 2
}
